{
  "nbformat": 4,
  "nbformat_minor": 0,
  "metadata": {
    "colab": {
      "name": "UTS 1197050081 Muhamad Taopik.ipynb",
      "provenance": [],
      "collapsed_sections": [],
      "include_colab_link": true
    },
    "kernelspec": {
      "name": "python3",
      "display_name": "Python 3"
    },
    "language_info": {
      "name": "python"
    }
  },
  "cells": [
    {
      "cell_type": "markdown",
      "metadata": {
        "id": "view-in-github",
        "colab_type": "text"
      },
      "source": [
        "<a href=\"https://colab.research.google.com/github/Mr94t3z/pembelajaran-mesin/blob/master/UTS_1197050081_Muhamad_Taopik.ipynb\" target=\"_parent\"><img src=\"https://colab.research.google.com/assets/colab-badge.svg\" alt=\"Open In Colab\"/></a>"
      ]
    },
    {
      "cell_type": "markdown",
      "source": [
        "# UTS Pembelajaran Mesin\n",
        "\n",
        "1197050081 Muhamad Taopik C"
      ],
      "metadata": {
        "id": "T0vW0W91QMc0"
      }
    },
    {
      "cell_type": "markdown",
      "source": [
        "# Topik Mini Riset\n",
        "Mini Riset ini mengenai Analisis Regresi untuk Prediksi Harga Laptop menggunakan Algoritma XGBoost dan Random Forest"
      ],
      "metadata": {
        "id": "76vqllHEQqQF"
      }
    },
    {
      "cell_type": "markdown",
      "source": [
        "# Business Understanding \n",
        "\n",
        "Tujuan dari proyek ini adalah untuk memprediksi harga laptop di masa depan. Dengan membuat model ini dan dengan analisis kita dapat menemukan korelasi antara spesifikasi dan harga laptop."
      ],
      "metadata": {
        "id": "rf1-LJBYRbTU"
      }
    },
    {
      "cell_type": "markdown",
      "source": [
        "# Data Understanding\n",
        "\n",
        "Datasets disini merupakan harga laptop dari beberapa perusahaan ternama. Data ini kurang lebih sekitar 1300. Berikut beberapa dimensinya:-\n",
        "\n",
        "> Ini rincian atribut/fitur/independent variable/kriteria:\n",
        "\n",
        "1. Company- String -Laptop Manufacturer\n",
        "2. Product -String -Brand and Model\n",
        "3. TypeName -String -Type (Notebook, Ultrabook, Gaming, etc.)\n",
        "4. Inches -Numeric- Screen Size\n",
        "5. ScreenResolution -String- Screen Resolution\n",
        "6. Cpu- String -Central Processing Unit (CPU)\n",
        "7. Ram -String- Laptop RAM\n",
        "8. Memory -String- Hard Disk / SSD Memory\n",
        "9. GPU -String- Graphics Processing Units (GPU)\n",
        "10. OpSys -String- Operating System\n",
        "11. Weight -String- Laptop Weight\n",
        "12. Price_euros -Numeric- Price (Euro)"
      ],
      "metadata": {
        "id": "iWWC036tTvfu"
      }
    },
    {
      "cell_type": "markdown",
      "source": [
        "# Data Preparation\n",
        "\n",
        "\n"
      ],
      "metadata": {
        "id": "pusc62noUc8x"
      }
    },
    {
      "cell_type": "code",
      "source": [
        "# library yang dibutuhkan\n",
        "import pandas as pd\n",
        "import matplotlib.pyplot as plt\n",
        "from sklearn.preprocessing import OneHotEncoder, MinMaxScaler\n",
        "from sklearn.metrics import mean_absolute_error, r2_score\n",
        "from sklearn.pipeline import Pipeline\n",
        "from sklearn.model_selection import train_test_split\n",
        "from sklearn.compose import ColumnTransformer\n",
        "from sklearn.ensemble import RandomForestRegressor\n",
        "import xgboost as xgb\n",
        "from xgboost import XGBRegressor\n",
        "import seaborn as sns\n",
        "import numpy as np\n",
        "import matplotlib.ticker as mtick"
      ],
      "metadata": {
        "id": "QBOudGrxVhk2"
      },
      "execution_count": 1,
      "outputs": []
    },
    {
      "cell_type": "code",
      "source": [
        "# load data\n",
        "df = pd.read_csv('https://raw.githubusercontent.com/Mr94t3z/pembelajaran-mesin/master/datasets/laptop_price.csv',encoding = \"ISO-8859-1\")"
      ],
      "metadata": {
        "id": "LsGiqOPBYouI"
      },
      "execution_count": 2,
      "outputs": []
    },
    {
      "cell_type": "code",
      "source": [
        "# pastikan tidak null\n",
        "df.info()"
      ],
      "metadata": {
        "colab": {
          "base_uri": "https://localhost:8080/"
        },
        "id": "dUlZdE-oWbX1",
        "outputId": "a5454b9d-b3ff-4fae-ec3b-199d211f415d"
      },
      "execution_count": 3,
      "outputs": [
        {
          "output_type": "stream",
          "name": "stdout",
          "text": [
            "<class 'pandas.core.frame.DataFrame'>\n",
            "RangeIndex: 1303 entries, 0 to 1302\n",
            "Data columns (total 13 columns):\n",
            " #   Column            Non-Null Count  Dtype  \n",
            "---  ------            --------------  -----  \n",
            " 0   laptop_ID         1303 non-null   int64  \n",
            " 1   Company           1303 non-null   object \n",
            " 2   Product           1303 non-null   object \n",
            " 3   TypeName          1303 non-null   object \n",
            " 4   Inches            1303 non-null   float64\n",
            " 5   ScreenResolution  1303 non-null   object \n",
            " 6   Cpu               1303 non-null   object \n",
            " 7   Ram               1303 non-null   object \n",
            " 8   Memory            1303 non-null   object \n",
            " 9   Gpu               1303 non-null   object \n",
            " 10  OpSys             1303 non-null   object \n",
            " 11  Weight            1303 non-null   object \n",
            " 12  Price_euros       1303 non-null   float64\n",
            "dtypes: float64(2), int64(1), object(10)\n",
            "memory usage: 132.5+ KB\n"
          ]
        }
      ]
    },
    {
      "cell_type": "code",
      "source": [
        "# pemilihan tipe data\n",
        "df.select_dtypes(exclude=['float64','int64']).describe()"
      ],
      "metadata": {
        "id": "RuIlha9WW99_",
        "colab": {
          "base_uri": "https://localhost:8080/",
          "height": 175
        },
        "outputId": "56537e32-cc2c-4a09-c3aa-edc6d68d78d5"
      },
      "execution_count": 4,
      "outputs": [
        {
          "output_type": "execute_result",
          "data": {
            "text/plain": [
              "       Company Product  TypeName   ScreenResolution  \\\n",
              "count     1303    1303      1303               1303   \n",
              "unique      19     618         6                 40   \n",
              "top       Dell  XPS 13  Notebook  Full HD 1920x1080   \n",
              "freq       297      30       727                507   \n",
              "\n",
              "                               Cpu   Ram     Memory                    Gpu  \\\n",
              "count                         1303  1303       1303                   1303   \n",
              "unique                         118     9         39                    110   \n",
              "top     Intel Core i5 7200U 2.5GHz   8GB  256GB SSD  Intel HD Graphics 620   \n",
              "freq                           190   619        412                    281   \n",
              "\n",
              "             OpSys Weight  \n",
              "count         1303   1303  \n",
              "unique           9    179  \n",
              "top     Windows 10  2.2kg  \n",
              "freq          1072    121  "
            ],
            "text/html": [
              "\n",
              "  <div id=\"df-b550f1c9-a2b6-4171-bc5a-af0400a3b8e0\">\n",
              "    <div class=\"colab-df-container\">\n",
              "      <div>\n",
              "<style scoped>\n",
              "    .dataframe tbody tr th:only-of-type {\n",
              "        vertical-align: middle;\n",
              "    }\n",
              "\n",
              "    .dataframe tbody tr th {\n",
              "        vertical-align: top;\n",
              "    }\n",
              "\n",
              "    .dataframe thead th {\n",
              "        text-align: right;\n",
              "    }\n",
              "</style>\n",
              "<table border=\"1\" class=\"dataframe\">\n",
              "  <thead>\n",
              "    <tr style=\"text-align: right;\">\n",
              "      <th></th>\n",
              "      <th>Company</th>\n",
              "      <th>Product</th>\n",
              "      <th>TypeName</th>\n",
              "      <th>ScreenResolution</th>\n",
              "      <th>Cpu</th>\n",
              "      <th>Ram</th>\n",
              "      <th>Memory</th>\n",
              "      <th>Gpu</th>\n",
              "      <th>OpSys</th>\n",
              "      <th>Weight</th>\n",
              "    </tr>\n",
              "  </thead>\n",
              "  <tbody>\n",
              "    <tr>\n",
              "      <th>count</th>\n",
              "      <td>1303</td>\n",
              "      <td>1303</td>\n",
              "      <td>1303</td>\n",
              "      <td>1303</td>\n",
              "      <td>1303</td>\n",
              "      <td>1303</td>\n",
              "      <td>1303</td>\n",
              "      <td>1303</td>\n",
              "      <td>1303</td>\n",
              "      <td>1303</td>\n",
              "    </tr>\n",
              "    <tr>\n",
              "      <th>unique</th>\n",
              "      <td>19</td>\n",
              "      <td>618</td>\n",
              "      <td>6</td>\n",
              "      <td>40</td>\n",
              "      <td>118</td>\n",
              "      <td>9</td>\n",
              "      <td>39</td>\n",
              "      <td>110</td>\n",
              "      <td>9</td>\n",
              "      <td>179</td>\n",
              "    </tr>\n",
              "    <tr>\n",
              "      <th>top</th>\n",
              "      <td>Dell</td>\n",
              "      <td>XPS 13</td>\n",
              "      <td>Notebook</td>\n",
              "      <td>Full HD 1920x1080</td>\n",
              "      <td>Intel Core i5 7200U 2.5GHz</td>\n",
              "      <td>8GB</td>\n",
              "      <td>256GB SSD</td>\n",
              "      <td>Intel HD Graphics 620</td>\n",
              "      <td>Windows 10</td>\n",
              "      <td>2.2kg</td>\n",
              "    </tr>\n",
              "    <tr>\n",
              "      <th>freq</th>\n",
              "      <td>297</td>\n",
              "      <td>30</td>\n",
              "      <td>727</td>\n",
              "      <td>507</td>\n",
              "      <td>190</td>\n",
              "      <td>619</td>\n",
              "      <td>412</td>\n",
              "      <td>281</td>\n",
              "      <td>1072</td>\n",
              "      <td>121</td>\n",
              "    </tr>\n",
              "  </tbody>\n",
              "</table>\n",
              "</div>\n",
              "      <button class=\"colab-df-convert\" onclick=\"convertToInteractive('df-b550f1c9-a2b6-4171-bc5a-af0400a3b8e0')\"\n",
              "              title=\"Convert this dataframe to an interactive table.\"\n",
              "              style=\"display:none;\">\n",
              "        \n",
              "  <svg xmlns=\"http://www.w3.org/2000/svg\" height=\"24px\"viewBox=\"0 0 24 24\"\n",
              "       width=\"24px\">\n",
              "    <path d=\"M0 0h24v24H0V0z\" fill=\"none\"/>\n",
              "    <path d=\"M18.56 5.44l.94 2.06.94-2.06 2.06-.94-2.06-.94-.94-2.06-.94 2.06-2.06.94zm-11 1L8.5 8.5l.94-2.06 2.06-.94-2.06-.94L8.5 2.5l-.94 2.06-2.06.94zm10 10l.94 2.06.94-2.06 2.06-.94-2.06-.94-.94-2.06-.94 2.06-2.06.94z\"/><path d=\"M17.41 7.96l-1.37-1.37c-.4-.4-.92-.59-1.43-.59-.52 0-1.04.2-1.43.59L10.3 9.45l-7.72 7.72c-.78.78-.78 2.05 0 2.83L4 21.41c.39.39.9.59 1.41.59.51 0 1.02-.2 1.41-.59l7.78-7.78 2.81-2.81c.8-.78.8-2.07 0-2.86zM5.41 20L4 18.59l7.72-7.72 1.47 1.35L5.41 20z\"/>\n",
              "  </svg>\n",
              "      </button>\n",
              "      \n",
              "  <style>\n",
              "    .colab-df-container {\n",
              "      display:flex;\n",
              "      flex-wrap:wrap;\n",
              "      gap: 12px;\n",
              "    }\n",
              "\n",
              "    .colab-df-convert {\n",
              "      background-color: #E8F0FE;\n",
              "      border: none;\n",
              "      border-radius: 50%;\n",
              "      cursor: pointer;\n",
              "      display: none;\n",
              "      fill: #1967D2;\n",
              "      height: 32px;\n",
              "      padding: 0 0 0 0;\n",
              "      width: 32px;\n",
              "    }\n",
              "\n",
              "    .colab-df-convert:hover {\n",
              "      background-color: #E2EBFA;\n",
              "      box-shadow: 0px 1px 2px rgba(60, 64, 67, 0.3), 0px 1px 3px 1px rgba(60, 64, 67, 0.15);\n",
              "      fill: #174EA6;\n",
              "    }\n",
              "\n",
              "    [theme=dark] .colab-df-convert {\n",
              "      background-color: #3B4455;\n",
              "      fill: #D2E3FC;\n",
              "    }\n",
              "\n",
              "    [theme=dark] .colab-df-convert:hover {\n",
              "      background-color: #434B5C;\n",
              "      box-shadow: 0px 1px 3px 1px rgba(0, 0, 0, 0.15);\n",
              "      filter: drop-shadow(0px 1px 2px rgba(0, 0, 0, 0.3));\n",
              "      fill: #FFFFFF;\n",
              "    }\n",
              "  </style>\n",
              "\n",
              "      <script>\n",
              "        const buttonEl =\n",
              "          document.querySelector('#df-b550f1c9-a2b6-4171-bc5a-af0400a3b8e0 button.colab-df-convert');\n",
              "        buttonEl.style.display =\n",
              "          google.colab.kernel.accessAllowed ? 'block' : 'none';\n",
              "\n",
              "        async function convertToInteractive(key) {\n",
              "          const element = document.querySelector('#df-b550f1c9-a2b6-4171-bc5a-af0400a3b8e0');\n",
              "          const dataTable =\n",
              "            await google.colab.kernel.invokeFunction('convertToInteractive',\n",
              "                                                     [key], {});\n",
              "          if (!dataTable) return;\n",
              "\n",
              "          const docLinkHtml = 'Like what you see? Visit the ' +\n",
              "            '<a target=\"_blank\" href=https://colab.research.google.com/notebooks/data_table.ipynb>data table notebook</a>'\n",
              "            + ' to learn more about interactive tables.';\n",
              "          element.innerHTML = '';\n",
              "          dataTable['output_type'] = 'display_data';\n",
              "          await google.colab.output.renderOutput(dataTable, element);\n",
              "          const docLink = document.createElement('div');\n",
              "          docLink.innerHTML = docLinkHtml;\n",
              "          element.appendChild(docLink);\n",
              "        }\n",
              "      </script>\n",
              "    </div>\n",
              "  </div>\n",
              "  "
            ]
          },
          "metadata": {},
          "execution_count": 4
        }
      ]
    },
    {
      "cell_type": "code",
      "source": [
        "# hapus data Product\n",
        "df = df.drop('Product', axis=1)\n",
        "df"
      ],
      "metadata": {
        "colab": {
          "base_uri": "https://localhost:8080/",
          "height": 641
        },
        "id": "Syb9GK1lXM_i",
        "outputId": "49d24471-76cd-45ac-8a8c-58ad355eca53"
      },
      "execution_count": 5,
      "outputs": [
        {
          "output_type": "execute_result",
          "data": {
            "text/plain": [
              "      laptop_ID Company            TypeName  Inches  \\\n",
              "0             1   Apple           Ultrabook    13.3   \n",
              "1             2   Apple           Ultrabook    13.3   \n",
              "2             3      HP            Notebook    15.6   \n",
              "3             4   Apple           Ultrabook    15.4   \n",
              "4             5   Apple           Ultrabook    13.3   \n",
              "...         ...     ...                 ...     ...   \n",
              "1298       1316  Lenovo  2 in 1 Convertible    14.0   \n",
              "1299       1317  Lenovo  2 in 1 Convertible    13.3   \n",
              "1300       1318  Lenovo            Notebook    14.0   \n",
              "1301       1319      HP            Notebook    15.6   \n",
              "1302       1320    Asus            Notebook    15.6   \n",
              "\n",
              "                                ScreenResolution  \\\n",
              "0             IPS Panel Retina Display 2560x1600   \n",
              "1                                       1440x900   \n",
              "2                              Full HD 1920x1080   \n",
              "3             IPS Panel Retina Display 2880x1800   \n",
              "4             IPS Panel Retina Display 2560x1600   \n",
              "...                                          ...   \n",
              "1298   IPS Panel Full HD / Touchscreen 1920x1080   \n",
              "1299  IPS Panel Quad HD+ / Touchscreen 3200x1800   \n",
              "1300                                    1366x768   \n",
              "1301                                    1366x768   \n",
              "1302                                    1366x768   \n",
              "\n",
              "                                       Cpu   Ram               Memory  \\\n",
              "0                     Intel Core i5 2.3GHz   8GB            128GB SSD   \n",
              "1                     Intel Core i5 1.8GHz   8GB  128GB Flash Storage   \n",
              "2               Intel Core i5 7200U 2.5GHz   8GB            256GB SSD   \n",
              "3                     Intel Core i7 2.7GHz  16GB            512GB SSD   \n",
              "4                     Intel Core i5 3.1GHz   8GB            256GB SSD   \n",
              "...                                    ...   ...                  ...   \n",
              "1298            Intel Core i7 6500U 2.5GHz   4GB            128GB SSD   \n",
              "1299            Intel Core i7 6500U 2.5GHz  16GB            512GB SSD   \n",
              "1300  Intel Celeron Dual Core N3050 1.6GHz   2GB   64GB Flash Storage   \n",
              "1301            Intel Core i7 6500U 2.5GHz   6GB              1TB HDD   \n",
              "1302  Intel Celeron Dual Core N3050 1.6GHz   4GB            500GB HDD   \n",
              "\n",
              "                               Gpu       OpSys  Weight  Price_euros  \n",
              "0     Intel Iris Plus Graphics 640       macOS  1.37kg      1339.69  \n",
              "1           Intel HD Graphics 6000       macOS  1.34kg       898.94  \n",
              "2            Intel HD Graphics 620       No OS  1.86kg       575.00  \n",
              "3               AMD Radeon Pro 455       macOS  1.83kg      2537.45  \n",
              "4     Intel Iris Plus Graphics 650       macOS  1.37kg      1803.60  \n",
              "...                            ...         ...     ...          ...  \n",
              "1298         Intel HD Graphics 520  Windows 10   1.8kg       638.00  \n",
              "1299         Intel HD Graphics 520  Windows 10   1.3kg      1499.00  \n",
              "1300             Intel HD Graphics  Windows 10   1.5kg       229.00  \n",
              "1301            AMD Radeon R5 M330  Windows 10  2.19kg       764.00  \n",
              "1302             Intel HD Graphics  Windows 10   2.2kg       369.00  \n",
              "\n",
              "[1303 rows x 12 columns]"
            ],
            "text/html": [
              "\n",
              "  <div id=\"df-639d079b-32f1-403e-9fdc-960ce9d6fff2\">\n",
              "    <div class=\"colab-df-container\">\n",
              "      <div>\n",
              "<style scoped>\n",
              "    .dataframe tbody tr th:only-of-type {\n",
              "        vertical-align: middle;\n",
              "    }\n",
              "\n",
              "    .dataframe tbody tr th {\n",
              "        vertical-align: top;\n",
              "    }\n",
              "\n",
              "    .dataframe thead th {\n",
              "        text-align: right;\n",
              "    }\n",
              "</style>\n",
              "<table border=\"1\" class=\"dataframe\">\n",
              "  <thead>\n",
              "    <tr style=\"text-align: right;\">\n",
              "      <th></th>\n",
              "      <th>laptop_ID</th>\n",
              "      <th>Company</th>\n",
              "      <th>TypeName</th>\n",
              "      <th>Inches</th>\n",
              "      <th>ScreenResolution</th>\n",
              "      <th>Cpu</th>\n",
              "      <th>Ram</th>\n",
              "      <th>Memory</th>\n",
              "      <th>Gpu</th>\n",
              "      <th>OpSys</th>\n",
              "      <th>Weight</th>\n",
              "      <th>Price_euros</th>\n",
              "    </tr>\n",
              "  </thead>\n",
              "  <tbody>\n",
              "    <tr>\n",
              "      <th>0</th>\n",
              "      <td>1</td>\n",
              "      <td>Apple</td>\n",
              "      <td>Ultrabook</td>\n",
              "      <td>13.3</td>\n",
              "      <td>IPS Panel Retina Display 2560x1600</td>\n",
              "      <td>Intel Core i5 2.3GHz</td>\n",
              "      <td>8GB</td>\n",
              "      <td>128GB SSD</td>\n",
              "      <td>Intel Iris Plus Graphics 640</td>\n",
              "      <td>macOS</td>\n",
              "      <td>1.37kg</td>\n",
              "      <td>1339.69</td>\n",
              "    </tr>\n",
              "    <tr>\n",
              "      <th>1</th>\n",
              "      <td>2</td>\n",
              "      <td>Apple</td>\n",
              "      <td>Ultrabook</td>\n",
              "      <td>13.3</td>\n",
              "      <td>1440x900</td>\n",
              "      <td>Intel Core i5 1.8GHz</td>\n",
              "      <td>8GB</td>\n",
              "      <td>128GB Flash Storage</td>\n",
              "      <td>Intel HD Graphics 6000</td>\n",
              "      <td>macOS</td>\n",
              "      <td>1.34kg</td>\n",
              "      <td>898.94</td>\n",
              "    </tr>\n",
              "    <tr>\n",
              "      <th>2</th>\n",
              "      <td>3</td>\n",
              "      <td>HP</td>\n",
              "      <td>Notebook</td>\n",
              "      <td>15.6</td>\n",
              "      <td>Full HD 1920x1080</td>\n",
              "      <td>Intel Core i5 7200U 2.5GHz</td>\n",
              "      <td>8GB</td>\n",
              "      <td>256GB SSD</td>\n",
              "      <td>Intel HD Graphics 620</td>\n",
              "      <td>No OS</td>\n",
              "      <td>1.86kg</td>\n",
              "      <td>575.00</td>\n",
              "    </tr>\n",
              "    <tr>\n",
              "      <th>3</th>\n",
              "      <td>4</td>\n",
              "      <td>Apple</td>\n",
              "      <td>Ultrabook</td>\n",
              "      <td>15.4</td>\n",
              "      <td>IPS Panel Retina Display 2880x1800</td>\n",
              "      <td>Intel Core i7 2.7GHz</td>\n",
              "      <td>16GB</td>\n",
              "      <td>512GB SSD</td>\n",
              "      <td>AMD Radeon Pro 455</td>\n",
              "      <td>macOS</td>\n",
              "      <td>1.83kg</td>\n",
              "      <td>2537.45</td>\n",
              "    </tr>\n",
              "    <tr>\n",
              "      <th>4</th>\n",
              "      <td>5</td>\n",
              "      <td>Apple</td>\n",
              "      <td>Ultrabook</td>\n",
              "      <td>13.3</td>\n",
              "      <td>IPS Panel Retina Display 2560x1600</td>\n",
              "      <td>Intel Core i5 3.1GHz</td>\n",
              "      <td>8GB</td>\n",
              "      <td>256GB SSD</td>\n",
              "      <td>Intel Iris Plus Graphics 650</td>\n",
              "      <td>macOS</td>\n",
              "      <td>1.37kg</td>\n",
              "      <td>1803.60</td>\n",
              "    </tr>\n",
              "    <tr>\n",
              "      <th>...</th>\n",
              "      <td>...</td>\n",
              "      <td>...</td>\n",
              "      <td>...</td>\n",
              "      <td>...</td>\n",
              "      <td>...</td>\n",
              "      <td>...</td>\n",
              "      <td>...</td>\n",
              "      <td>...</td>\n",
              "      <td>...</td>\n",
              "      <td>...</td>\n",
              "      <td>...</td>\n",
              "      <td>...</td>\n",
              "    </tr>\n",
              "    <tr>\n",
              "      <th>1298</th>\n",
              "      <td>1316</td>\n",
              "      <td>Lenovo</td>\n",
              "      <td>2 in 1 Convertible</td>\n",
              "      <td>14.0</td>\n",
              "      <td>IPS Panel Full HD / Touchscreen 1920x1080</td>\n",
              "      <td>Intel Core i7 6500U 2.5GHz</td>\n",
              "      <td>4GB</td>\n",
              "      <td>128GB SSD</td>\n",
              "      <td>Intel HD Graphics 520</td>\n",
              "      <td>Windows 10</td>\n",
              "      <td>1.8kg</td>\n",
              "      <td>638.00</td>\n",
              "    </tr>\n",
              "    <tr>\n",
              "      <th>1299</th>\n",
              "      <td>1317</td>\n",
              "      <td>Lenovo</td>\n",
              "      <td>2 in 1 Convertible</td>\n",
              "      <td>13.3</td>\n",
              "      <td>IPS Panel Quad HD+ / Touchscreen 3200x1800</td>\n",
              "      <td>Intel Core i7 6500U 2.5GHz</td>\n",
              "      <td>16GB</td>\n",
              "      <td>512GB SSD</td>\n",
              "      <td>Intel HD Graphics 520</td>\n",
              "      <td>Windows 10</td>\n",
              "      <td>1.3kg</td>\n",
              "      <td>1499.00</td>\n",
              "    </tr>\n",
              "    <tr>\n",
              "      <th>1300</th>\n",
              "      <td>1318</td>\n",
              "      <td>Lenovo</td>\n",
              "      <td>Notebook</td>\n",
              "      <td>14.0</td>\n",
              "      <td>1366x768</td>\n",
              "      <td>Intel Celeron Dual Core N3050 1.6GHz</td>\n",
              "      <td>2GB</td>\n",
              "      <td>64GB Flash Storage</td>\n",
              "      <td>Intel HD Graphics</td>\n",
              "      <td>Windows 10</td>\n",
              "      <td>1.5kg</td>\n",
              "      <td>229.00</td>\n",
              "    </tr>\n",
              "    <tr>\n",
              "      <th>1301</th>\n",
              "      <td>1319</td>\n",
              "      <td>HP</td>\n",
              "      <td>Notebook</td>\n",
              "      <td>15.6</td>\n",
              "      <td>1366x768</td>\n",
              "      <td>Intel Core i7 6500U 2.5GHz</td>\n",
              "      <td>6GB</td>\n",
              "      <td>1TB HDD</td>\n",
              "      <td>AMD Radeon R5 M330</td>\n",
              "      <td>Windows 10</td>\n",
              "      <td>2.19kg</td>\n",
              "      <td>764.00</td>\n",
              "    </tr>\n",
              "    <tr>\n",
              "      <th>1302</th>\n",
              "      <td>1320</td>\n",
              "      <td>Asus</td>\n",
              "      <td>Notebook</td>\n",
              "      <td>15.6</td>\n",
              "      <td>1366x768</td>\n",
              "      <td>Intel Celeron Dual Core N3050 1.6GHz</td>\n",
              "      <td>4GB</td>\n",
              "      <td>500GB HDD</td>\n",
              "      <td>Intel HD Graphics</td>\n",
              "      <td>Windows 10</td>\n",
              "      <td>2.2kg</td>\n",
              "      <td>369.00</td>\n",
              "    </tr>\n",
              "  </tbody>\n",
              "</table>\n",
              "<p>1303 rows × 12 columns</p>\n",
              "</div>\n",
              "      <button class=\"colab-df-convert\" onclick=\"convertToInteractive('df-639d079b-32f1-403e-9fdc-960ce9d6fff2')\"\n",
              "              title=\"Convert this dataframe to an interactive table.\"\n",
              "              style=\"display:none;\">\n",
              "        \n",
              "  <svg xmlns=\"http://www.w3.org/2000/svg\" height=\"24px\"viewBox=\"0 0 24 24\"\n",
              "       width=\"24px\">\n",
              "    <path d=\"M0 0h24v24H0V0z\" fill=\"none\"/>\n",
              "    <path d=\"M18.56 5.44l.94 2.06.94-2.06 2.06-.94-2.06-.94-.94-2.06-.94 2.06-2.06.94zm-11 1L8.5 8.5l.94-2.06 2.06-.94-2.06-.94L8.5 2.5l-.94 2.06-2.06.94zm10 10l.94 2.06.94-2.06 2.06-.94-2.06-.94-.94-2.06-.94 2.06-2.06.94z\"/><path d=\"M17.41 7.96l-1.37-1.37c-.4-.4-.92-.59-1.43-.59-.52 0-1.04.2-1.43.59L10.3 9.45l-7.72 7.72c-.78.78-.78 2.05 0 2.83L4 21.41c.39.39.9.59 1.41.59.51 0 1.02-.2 1.41-.59l7.78-7.78 2.81-2.81c.8-.78.8-2.07 0-2.86zM5.41 20L4 18.59l7.72-7.72 1.47 1.35L5.41 20z\"/>\n",
              "  </svg>\n",
              "      </button>\n",
              "      \n",
              "  <style>\n",
              "    .colab-df-container {\n",
              "      display:flex;\n",
              "      flex-wrap:wrap;\n",
              "      gap: 12px;\n",
              "    }\n",
              "\n",
              "    .colab-df-convert {\n",
              "      background-color: #E8F0FE;\n",
              "      border: none;\n",
              "      border-radius: 50%;\n",
              "      cursor: pointer;\n",
              "      display: none;\n",
              "      fill: #1967D2;\n",
              "      height: 32px;\n",
              "      padding: 0 0 0 0;\n",
              "      width: 32px;\n",
              "    }\n",
              "\n",
              "    .colab-df-convert:hover {\n",
              "      background-color: #E2EBFA;\n",
              "      box-shadow: 0px 1px 2px rgba(60, 64, 67, 0.3), 0px 1px 3px 1px rgba(60, 64, 67, 0.15);\n",
              "      fill: #174EA6;\n",
              "    }\n",
              "\n",
              "    [theme=dark] .colab-df-convert {\n",
              "      background-color: #3B4455;\n",
              "      fill: #D2E3FC;\n",
              "    }\n",
              "\n",
              "    [theme=dark] .colab-df-convert:hover {\n",
              "      background-color: #434B5C;\n",
              "      box-shadow: 0px 1px 3px 1px rgba(0, 0, 0, 0.15);\n",
              "      filter: drop-shadow(0px 1px 2px rgba(0, 0, 0, 0.3));\n",
              "      fill: #FFFFFF;\n",
              "    }\n",
              "  </style>\n",
              "\n",
              "      <script>\n",
              "        const buttonEl =\n",
              "          document.querySelector('#df-639d079b-32f1-403e-9fdc-960ce9d6fff2 button.colab-df-convert');\n",
              "        buttonEl.style.display =\n",
              "          google.colab.kernel.accessAllowed ? 'block' : 'none';\n",
              "\n",
              "        async function convertToInteractive(key) {\n",
              "          const element = document.querySelector('#df-639d079b-32f1-403e-9fdc-960ce9d6fff2');\n",
              "          const dataTable =\n",
              "            await google.colab.kernel.invokeFunction('convertToInteractive',\n",
              "                                                     [key], {});\n",
              "          if (!dataTable) return;\n",
              "\n",
              "          const docLinkHtml = 'Like what you see? Visit the ' +\n",
              "            '<a target=\"_blank\" href=https://colab.research.google.com/notebooks/data_table.ipynb>data table notebook</a>'\n",
              "            + ' to learn more about interactive tables.';\n",
              "          element.innerHTML = '';\n",
              "          dataTable['output_type'] = 'display_data';\n",
              "          await google.colab.output.renderOutput(dataTable, element);\n",
              "          const docLink = document.createElement('div');\n",
              "          docLink.innerHTML = docLinkHtml;\n",
              "          element.appendChild(docLink);\n",
              "        }\n",
              "      </script>\n",
              "    </div>\n",
              "  </div>\n",
              "  "
            ]
          },
          "metadata": {},
          "execution_count": 5
        }
      ]
    },
    {
      "cell_type": "code",
      "source": [
        "# ekstrak data Weight\n",
        "df['Weight'] = df['Weight'].str.extract(r'(\\d.\\d+|\\d.\\d|\\d)')"
      ],
      "metadata": {
        "id": "GmUhgrV7XTqC"
      },
      "execution_count": 6,
      "outputs": []
    },
    {
      "cell_type": "code",
      "source": [
        "# menentukan tipe data\n",
        "df['Weight'] = df['Weight'].astype('float64')"
      ],
      "metadata": {
        "id": "rhcaH6VaXWrQ"
      },
      "execution_count": 7,
      "outputs": []
    },
    {
      "cell_type": "code",
      "source": [
        "# data Cpu\n",
        "df.Cpu.unique()"
      ],
      "metadata": {
        "colab": {
          "base_uri": "https://localhost:8080/"
        },
        "id": "ydQIVzABX22U",
        "outputId": "7b1862e2-f5a1-4b24-f925-940338098617"
      },
      "execution_count": 8,
      "outputs": [
        {
          "output_type": "execute_result",
          "data": {
            "text/plain": [
              "array(['Intel Core i5 2.3GHz', 'Intel Core i5 1.8GHz',\n",
              "       'Intel Core i5 7200U 2.5GHz', 'Intel Core i7 2.7GHz',\n",
              "       'Intel Core i5 3.1GHz', 'AMD A9-Series 9420 3GHz',\n",
              "       'Intel Core i7 2.2GHz', 'Intel Core i7 8550U 1.8GHz',\n",
              "       'Intel Core i5 8250U 1.6GHz', 'Intel Core i3 6006U 2GHz',\n",
              "       'Intel Core i7 2.8GHz', 'Intel Core M m3 1.2GHz',\n",
              "       'Intel Core i7 7500U 2.7GHz', 'Intel Core i7 2.9GHz',\n",
              "       'Intel Core i3 7100U 2.4GHz', 'Intel Atom x5-Z8350 1.44GHz',\n",
              "       'Intel Core i5 7300HQ 2.5GHz', 'AMD E-Series E2-9000e 1.5GHz',\n",
              "       'Intel Core i5 1.6GHz', 'Intel Core i7 8650U 1.9GHz',\n",
              "       'Intel Atom x5-Z8300 1.44GHz', 'AMD E-Series E2-6110 1.5GHz',\n",
              "       'AMD A6-Series 9220 2.5GHz',\n",
              "       'Intel Celeron Dual Core N3350 1.1GHz',\n",
              "       'Intel Core i3 7130U 2.7GHz', 'Intel Core i7 7700HQ 2.8GHz',\n",
              "       'Intel Core i5 2.0GHz', 'AMD Ryzen 1700 3GHz',\n",
              "       'Intel Pentium Quad Core N4200 1.1GHz',\n",
              "       'Intel Atom x5-Z8550 1.44GHz',\n",
              "       'Intel Celeron Dual Core N3060 1.6GHz', 'Intel Core i5 1.3GHz',\n",
              "       'AMD FX 9830P 3GHz', 'Intel Core i7 7560U 2.4GHz',\n",
              "       'AMD E-Series 6110 1.5GHz', 'Intel Core i5 6200U 2.3GHz',\n",
              "       'Intel Core M 6Y75 1.2GHz', 'Intel Core i5 7500U 2.7GHz',\n",
              "       'Intel Core i3 6006U 2.2GHz', 'AMD A6-Series 9220 2.9GHz',\n",
              "       'Intel Core i7 6920HQ 2.9GHz', 'Intel Core i5 7Y54 1.2GHz',\n",
              "       'Intel Core i7 7820HK 2.9GHz', 'Intel Xeon E3-1505M V6 3GHz',\n",
              "       'Intel Core i7 6500U 2.5GHz', 'AMD E-Series 9000e 1.5GHz',\n",
              "       'AMD A10-Series A10-9620P 2.5GHz', 'AMD A6-Series A6-9220 2.5GHz',\n",
              "       'Intel Core i5 2.9GHz', 'Intel Core i7 6600U 2.6GHz',\n",
              "       'Intel Core i3 6006U 2.0GHz',\n",
              "       'Intel Celeron Dual Core 3205U 1.5GHz',\n",
              "       'Intel Core i7 7820HQ 2.9GHz', 'AMD A10-Series 9600P 2.4GHz',\n",
              "       'Intel Core i7 7600U 2.8GHz', 'AMD A8-Series 7410 2.2GHz',\n",
              "       'Intel Celeron Dual Core 3855U 1.6GHz',\n",
              "       'Intel Pentium Quad Core N3710 1.6GHz',\n",
              "       'AMD A12-Series 9720P 2.7GHz', 'Intel Core i5 7300U 2.6GHz',\n",
              "       'AMD A12-Series 9720P 3.6GHz',\n",
              "       'Intel Celeron Quad Core N3450 1.1GHz',\n",
              "       'Intel Celeron Dual Core N3060 1.60GHz',\n",
              "       'Intel Core i5 6440HQ 2.6GHz', 'Intel Core i7 6820HQ 2.7GHz',\n",
              "       'AMD Ryzen 1600 3.2GHz', 'Intel Core i7 7Y75 1.3GHz',\n",
              "       'Intel Core i5 7440HQ 2.8GHz', 'Intel Core i7 7660U 2.5GHz',\n",
              "       'Intel Core i7 7700HQ 2.7GHz', 'Intel Core M m3-7Y30 2.2GHz',\n",
              "       'Intel Core i5 7Y57 1.2GHz', 'Intel Core i7 6700HQ 2.6GHz',\n",
              "       'Intel Core i3 6100U 2.3GHz', 'AMD A10-Series 9620P 2.5GHz',\n",
              "       'AMD E-Series 7110 1.8GHz', 'Intel Celeron Dual Core N3350 2.0GHz',\n",
              "       'AMD A9-Series A9-9420 3GHz', 'Intel Core i7 6820HK 2.7GHz',\n",
              "       'Intel Core M 7Y30 1.0GHz', 'Intel Xeon E3-1535M v6 3.1GHz',\n",
              "       'Intel Celeron Quad Core N3160 1.6GHz',\n",
              "       'Intel Core i5 6300U 2.4GHz', 'Intel Core i3 6100U 2.1GHz',\n",
              "       'AMD E-Series E2-9000 2.2GHz',\n",
              "       'Intel Celeron Dual Core N3050 1.6GHz',\n",
              "       'Intel Core M M3-6Y30 0.9GHz', 'AMD A9-Series 9420 2.9GHz',\n",
              "       'Intel Core i5 6300HQ 2.3GHz', 'AMD A6-Series 7310 2GHz',\n",
              "       'Intel Atom Z8350 1.92GHz', 'Intel Xeon E3-1535M v5 2.9GHz',\n",
              "       'Intel Core i5 6260U 1.8GHz',\n",
              "       'Intel Pentium Dual Core N4200 1.1GHz',\n",
              "       'Intel Celeron Quad Core N3710 1.6GHz', 'Intel Core M 1.2GHz',\n",
              "       'AMD A12-Series 9700P 2.5GHz', 'Intel Core i7 7500U 2.5GHz',\n",
              "       'Intel Pentium Dual Core 4405U 2.1GHz',\n",
              "       'AMD A4-Series 7210 2.2GHz', 'Intel Core i7 6560U 2.2GHz',\n",
              "       'Intel Core M m7-6Y75 1.2GHz', 'AMD FX 8800P 2.1GHz',\n",
              "       'Intel Core M M7-6Y75 1.2GHz', 'Intel Core i5 7200U 2.50GHz',\n",
              "       'Intel Core i5 7200U 2.70GHz', 'Intel Atom X5-Z8350 1.44GHz',\n",
              "       'Intel Core i5 7200U 2.7GHz', 'Intel Core M 1.1GHz',\n",
              "       'Intel Pentium Dual Core 4405Y 1.5GHz',\n",
              "       'Intel Pentium Quad Core N3700 1.6GHz', 'Intel Core M 6Y54 1.1GHz',\n",
              "       'Intel Core i7 6500U 2.50GHz',\n",
              "       'Intel Celeron Dual Core N3350 2GHz',\n",
              "       'Samsung Cortex A72&A53 2.0GHz', 'AMD E-Series 9000 2.2GHz',\n",
              "       'Intel Core M 6Y30 0.9GHz', 'AMD A9-Series 9410 2.9GHz'],\n",
              "      dtype=object)"
            ]
          },
          "metadata": {},
          "execution_count": 8
        }
      ]
    },
    {
      "cell_type": "code",
      "source": [
        "# ekstrak data Cpu_model\n",
        "df['Cpu_model'] = df['Cpu'].str.extract(r'(i\\d|AMD|Samsung|Pentium|Celeron|Atom|Core M|Xeon)')"
      ],
      "metadata": {
        "id": "dIjq8m5Va7q2"
      },
      "execution_count": 9,
      "outputs": []
    },
    {
      "cell_type": "code",
      "source": [
        "# pastikan tidak null\n",
        "df.Cpu_model.isnull().sum()"
      ],
      "metadata": {
        "colab": {
          "base_uri": "https://localhost:8080/"
        },
        "id": "8V6zFWrDbMCs",
        "outputId": "338d00fb-0011-4a25-de05-5a765255e854"
      },
      "execution_count": 10,
      "outputs": [
        {
          "output_type": "execute_result",
          "data": {
            "text/plain": [
              "0"
            ]
          },
          "metadata": {},
          "execution_count": 10
        }
      ]
    },
    {
      "cell_type": "code",
      "source": [
        "# ekstrak data Cpu_freq\n",
        "df['Cpu_freq'] = df['Cpu'].str.extract(r'(\\d+\\.\\d+GHz|\\d+GHz)')"
      ],
      "metadata": {
        "id": "rOKJnGk5bSso"
      },
      "execution_count": 11,
      "outputs": []
    },
    {
      "cell_type": "code",
      "source": [
        "# merubah tipe data\n",
        "df['Cpu_freq'] = df['Cpu_freq'].str.replace('GHz','').astype('float64')"
      ],
      "metadata": {
        "id": "-EJsIzR5bnN3"
      },
      "execution_count": 12,
      "outputs": []
    },
    {
      "cell_type": "code",
      "source": [
        "# pastikan tidak null\n",
        "df['Cpu_freq'].isnull().sum()"
      ],
      "metadata": {
        "colab": {
          "base_uri": "https://localhost:8080/"
        },
        "id": "H3RqTv_3b6Oy",
        "outputId": "4ae3376e-1b8d-4339-f9b2-7c8c35365b19"
      },
      "execution_count": 13,
      "outputs": [
        {
          "output_type": "execute_result",
          "data": {
            "text/plain": [
              "0"
            ]
          },
          "metadata": {},
          "execution_count": 13
        }
      ]
    },
    {
      "cell_type": "code",
      "source": [
        "# data ScreenResolution\n",
        "df.ScreenResolution.unique()"
      ],
      "metadata": {
        "colab": {
          "base_uri": "https://localhost:8080/"
        },
        "id": "xVw3ZambcFZf",
        "outputId": "2b7d151d-9626-4368-f095-87537d90fd32"
      },
      "execution_count": 14,
      "outputs": [
        {
          "output_type": "execute_result",
          "data": {
            "text/plain": [
              "array(['IPS Panel Retina Display 2560x1600', '1440x900',\n",
              "       'Full HD 1920x1080', 'IPS Panel Retina Display 2880x1800',\n",
              "       '1366x768', 'IPS Panel Full HD 1920x1080',\n",
              "       'IPS Panel Retina Display 2304x1440',\n",
              "       'IPS Panel Full HD / Touchscreen 1920x1080',\n",
              "       'Full HD / Touchscreen 1920x1080',\n",
              "       'Touchscreen / Quad HD+ 3200x1800',\n",
              "       'IPS Panel Touchscreen 1920x1200', 'Touchscreen 2256x1504',\n",
              "       'Quad HD+ / Touchscreen 3200x1800', 'IPS Panel 1366x768',\n",
              "       'IPS Panel 4K Ultra HD / Touchscreen 3840x2160',\n",
              "       'IPS Panel Full HD 2160x1440',\n",
              "       '4K Ultra HD / Touchscreen 3840x2160', 'Touchscreen 2560x1440',\n",
              "       '1600x900', 'IPS Panel 4K Ultra HD 3840x2160',\n",
              "       '4K Ultra HD 3840x2160', 'Touchscreen 1366x768',\n",
              "       'IPS Panel Full HD 1366x768', 'IPS Panel 2560x1440',\n",
              "       'IPS Panel Full HD 2560x1440',\n",
              "       'IPS Panel Retina Display 2736x1824', 'Touchscreen 2400x1600',\n",
              "       '2560x1440', 'IPS Panel Quad HD+ 2560x1440',\n",
              "       'IPS Panel Quad HD+ 3200x1800',\n",
              "       'IPS Panel Quad HD+ / Touchscreen 3200x1800',\n",
              "       'IPS Panel Touchscreen 1366x768', '1920x1080',\n",
              "       'IPS Panel Full HD 1920x1200',\n",
              "       'IPS Panel Touchscreen / 4K Ultra HD 3840x2160',\n",
              "       'IPS Panel Touchscreen 2560x1440',\n",
              "       'Touchscreen / Full HD 1920x1080', 'Quad HD+ 3200x1800',\n",
              "       'Touchscreen / 4K Ultra HD 3840x2160',\n",
              "       'IPS Panel Touchscreen 2400x1600'], dtype=object)"
            ]
          },
          "metadata": {},
          "execution_count": 14
        }
      ]
    },
    {
      "cell_type": "code",
      "source": [
        "# ekstrak data Resolution\n",
        "df['Resolution'] = df.ScreenResolution.str.extract(r'(\\d+x\\d+)')"
      ],
      "metadata": {
        "id": "JUvPgWozcQqM"
      },
      "execution_count": 15,
      "outputs": []
    },
    {
      "cell_type": "code",
      "source": [
        "# pastikan tidak null\n",
        "df.Resolution.isnull().sum()"
      ],
      "metadata": {
        "colab": {
          "base_uri": "https://localhost:8080/"
        },
        "id": "6IUpbUtwcaTK",
        "outputId": "dc839f19-3035-4053-d37d-bcaf4bb301af"
      },
      "execution_count": 16,
      "outputs": [
        {
          "output_type": "execute_result",
          "data": {
            "text/plain": [
              "0"
            ]
          },
          "metadata": {},
          "execution_count": 16
        }
      ]
    },
    {
      "cell_type": "code",
      "source": [
        "# data Memory\n",
        "df.Memory.unique()"
      ],
      "metadata": {
        "colab": {
          "base_uri": "https://localhost:8080/"
        },
        "id": "kzXhamg8ce5W",
        "outputId": "39d6be2e-3d7e-4310-c72d-6ab99c98329d"
      },
      "execution_count": 17,
      "outputs": [
        {
          "output_type": "execute_result",
          "data": {
            "text/plain": [
              "array(['128GB SSD', '128GB Flash Storage', '256GB SSD', '512GB SSD',\n",
              "       '500GB HDD', '256GB Flash Storage', '1TB HDD',\n",
              "       '32GB Flash Storage', '128GB SSD +  1TB HDD',\n",
              "       '256GB SSD +  256GB SSD', '64GB Flash Storage',\n",
              "       '256GB SSD +  1TB HDD', '256GB SSD +  2TB HDD', '32GB SSD',\n",
              "       '2TB HDD', '64GB SSD', '1.0TB Hybrid', '512GB SSD +  1TB HDD',\n",
              "       '1TB SSD', '256GB SSD +  500GB HDD', '128GB SSD +  2TB HDD',\n",
              "       '512GB SSD +  512GB SSD', '16GB SSD', '16GB Flash Storage',\n",
              "       '512GB SSD +  256GB SSD', '512GB SSD +  2TB HDD',\n",
              "       '64GB Flash Storage +  1TB HDD', '180GB SSD', '1TB HDD +  1TB HDD',\n",
              "       '32GB HDD', '1TB SSD +  1TB HDD', '512GB Flash Storage',\n",
              "       '128GB HDD', '240GB SSD', '8GB SSD', '508GB Hybrid', '1.0TB HDD',\n",
              "       '512GB SSD +  1.0TB Hybrid', '256GB SSD +  1.0TB Hybrid'],\n",
              "      dtype=object)"
            ]
          },
          "metadata": {},
          "execution_count": 17
        }
      ]
    },
    {
      "cell_type": "code",
      "source": [
        "# ekstrak data Memory_Size\n",
        "df['Memory_Size'] = df.Memory.str.extract(r'(\\d+GB|\\d+TB)')"
      ],
      "metadata": {
        "id": "h51Ww7ohclKT"
      },
      "execution_count": 18,
      "outputs": []
    },
    {
      "cell_type": "code",
      "source": [
        "# merubah tipe data\n",
        "df['Memory_Size'] = df.Memory_Size.str.extract(r'(\\d+)').astype('int64')"
      ],
      "metadata": {
        "id": "3Y92poChcsxK"
      },
      "execution_count": 19,
      "outputs": []
    },
    {
      "cell_type": "code",
      "source": [
        "df['Memory_Size'] = list((map((lambda x: x*1000 if x < 16 else x),df['Memory_Size'])))"
      ],
      "metadata": {
        "id": "m0nrExrsc0hQ"
      },
      "execution_count": 20,
      "outputs": []
    },
    {
      "cell_type": "code",
      "source": [
        "# ekstrak data Storage_type\n",
        "df['Storage_type'] = df.Memory.str.extract(r'(.+[+].+|SSD|HDD|Flash Storage|Hybrid)')"
      ],
      "metadata": {
        "id": "T78GWkO1c4i2"
      },
      "execution_count": 21,
      "outputs": []
    },
    {
      "cell_type": "code",
      "source": [
        "# pastikan tidak null\n",
        "df['Storage_type'].isnull().sum()"
      ],
      "metadata": {
        "colab": {
          "base_uri": "https://localhost:8080/"
        },
        "id": "LUSWgQTUc7jh",
        "outputId": "001c4665-170c-4f98-ddd6-eed327843d1a"
      },
      "execution_count": 22,
      "outputs": [
        {
          "output_type": "execute_result",
          "data": {
            "text/plain": [
              "0"
            ]
          },
          "metadata": {},
          "execution_count": 22
        }
      ]
    },
    {
      "cell_type": "code",
      "source": [
        "# data Gpu\n",
        "df.Gpu.unique()"
      ],
      "metadata": {
        "colab": {
          "base_uri": "https://localhost:8080/"
        },
        "id": "SAqV0OACdIoU",
        "outputId": "c20c51c6-edb2-4fdf-b4fe-b32f911190cf"
      },
      "execution_count": 23,
      "outputs": [
        {
          "output_type": "execute_result",
          "data": {
            "text/plain": [
              "array(['Intel Iris Plus Graphics 640', 'Intel HD Graphics 6000',\n",
              "       'Intel HD Graphics 620', 'AMD Radeon Pro 455',\n",
              "       'Intel Iris Plus Graphics 650', 'AMD Radeon R5',\n",
              "       'Intel Iris Pro Graphics', 'Nvidia GeForce MX150',\n",
              "       'Intel UHD Graphics 620', 'Intel HD Graphics 520',\n",
              "       'AMD Radeon Pro 555', 'AMD Radeon R5 M430',\n",
              "       'Intel HD Graphics 615', 'AMD Radeon Pro 560',\n",
              "       'Nvidia GeForce 940MX', 'Intel HD Graphics 400',\n",
              "       'Nvidia GeForce GTX 1050', 'AMD Radeon R2', 'AMD Radeon 530',\n",
              "       'Nvidia GeForce 930MX', 'Intel HD Graphics',\n",
              "       'Intel HD Graphics 500', 'Nvidia GeForce 930MX ',\n",
              "       'Nvidia GeForce GTX 1060', 'Nvidia GeForce 150MX',\n",
              "       'Intel Iris Graphics 540', 'AMD Radeon RX 580',\n",
              "       'Nvidia GeForce 920MX', 'AMD Radeon R4 Graphics', 'AMD Radeon 520',\n",
              "       'Nvidia GeForce GTX 1070', 'Nvidia GeForce GTX 1050 Ti',\n",
              "       'Nvidia GeForce MX130', 'AMD R4 Graphics',\n",
              "       'Nvidia GeForce GTX 940MX', 'AMD Radeon RX 560',\n",
              "       'Nvidia GeForce 920M', 'AMD Radeon R7 M445', 'AMD Radeon RX 550',\n",
              "       'Nvidia GeForce GTX 1050M', 'Intel HD Graphics 515',\n",
              "       'AMD Radeon R5 M420', 'Intel HD Graphics 505',\n",
              "       'Nvidia GTX 980 SLI', 'AMD R17M-M1-70', 'Nvidia GeForce GTX 1080',\n",
              "       'Nvidia Quadro M1200', 'Nvidia GeForce 920MX ',\n",
              "       'Nvidia GeForce GTX 950M', 'AMD FirePro W4190M ',\n",
              "       'Nvidia GeForce GTX 980M', 'Intel Iris Graphics 550',\n",
              "       'Nvidia GeForce 930M', 'Intel HD Graphics 630',\n",
              "       'AMD Radeon R5 430', 'Nvidia GeForce GTX 940M',\n",
              "       'Intel HD Graphics 510', 'Intel HD Graphics 405',\n",
              "       'AMD Radeon RX 540', 'Nvidia GeForce GT 940MX',\n",
              "       'AMD FirePro W5130M', 'Nvidia Quadro M2200M', 'AMD Radeon R4',\n",
              "       'Nvidia Quadro M620', 'AMD Radeon R7 M460',\n",
              "       'Intel HD Graphics 530', 'Nvidia GeForce GTX 965M',\n",
              "       'Nvidia GeForce GTX1080', 'Nvidia GeForce GTX1050 Ti',\n",
              "       'Nvidia GeForce GTX 960M', 'AMD Radeon R2 Graphics',\n",
              "       'Nvidia Quadro M620M', 'Nvidia GeForce GTX 970M',\n",
              "       'Nvidia GeForce GTX 960<U+039C>', 'Intel Graphics 620',\n",
              "       'Nvidia GeForce GTX 960', 'AMD Radeon R5 520',\n",
              "       'AMD Radeon R7 M440', 'AMD Radeon R7', 'Nvidia Quadro M520M',\n",
              "       'Nvidia Quadro M2200', 'Nvidia Quadro M2000M',\n",
              "       'Intel HD Graphics 540', 'Nvidia Quadro M1000M', 'AMD Radeon 540',\n",
              "       'Nvidia GeForce GTX 1070M', 'Nvidia GeForce GTX1060',\n",
              "       'Intel HD Graphics 5300', 'AMD Radeon R5 M420X',\n",
              "       'AMD Radeon R7 Graphics', 'Nvidia GeForce 920',\n",
              "       'Nvidia GeForce 940M', 'Nvidia GeForce GTX 930MX',\n",
              "       'AMD Radeon R7 M465', 'AMD Radeon R3', 'Nvidia GeForce GTX 1050Ti',\n",
              "       'AMD Radeon R7 M365X', 'AMD Radeon R9 M385',\n",
              "       'Intel HD Graphics 620 ', 'Nvidia Quadro 3000M',\n",
              "       'Nvidia GeForce GTX 980 ', 'AMD Radeon R5 M330',\n",
              "       'AMD FirePro W4190M', 'AMD FirePro W6150M', 'AMD Radeon R5 M315',\n",
              "       'Nvidia Quadro M500M', 'AMD Radeon R7 M360',\n",
              "       'Nvidia Quadro M3000M', 'Nvidia GeForce 960M', 'ARM Mali T860 MP4'],\n",
              "      dtype=object)"
            ]
          },
          "metadata": {},
          "execution_count": 23
        }
      ]
    },
    {
      "cell_type": "code",
      "source": [
        "# ekstrak data Gpu_brand\n",
        "df['Gpu_brand'] = df.Gpu.str.extract(r'(Nvidia|AMD|Intel)')"
      ],
      "metadata": {
        "id": "m9yLDrNWdOoq"
      },
      "execution_count": 24,
      "outputs": []
    },
    {
      "cell_type": "code",
      "source": [
        "print([col for col in df.columns if df[col].isnull().sum() > 0])"
      ],
      "metadata": {
        "colab": {
          "base_uri": "https://localhost:8080/"
        },
        "id": "YupBfFyydd3d",
        "outputId": "de458617-9da9-49f0-e501-cf2dea6be767"
      },
      "execution_count": 25,
      "outputs": [
        {
          "output_type": "stream",
          "name": "stdout",
          "text": [
            "['Gpu_brand']\n"
          ]
        }
      ]
    },
    {
      "cell_type": "code",
      "source": [
        "# data Ram\n",
        "df.Ram.unique()"
      ],
      "metadata": {
        "colab": {
          "base_uri": "https://localhost:8080/"
        },
        "id": "cVNkIHtedi_Q",
        "outputId": "5cc33ec5-88cf-4565-f1ef-6240afd6d50f"
      },
      "execution_count": 26,
      "outputs": [
        {
          "output_type": "execute_result",
          "data": {
            "text/plain": [
              "array(['8GB', '16GB', '4GB', '2GB', '12GB', '6GB', '32GB', '24GB', '64GB'],\n",
              "      dtype=object)"
            ]
          },
          "metadata": {},
          "execution_count": 26
        }
      ]
    },
    {
      "cell_type": "code",
      "source": [
        "# merubah tipe data\n",
        "df['Ram'] = df.Ram.str.extract(r'(\\d+)').astype('int64')"
      ],
      "metadata": {
        "id": "OOgL97HcdoZN"
      },
      "execution_count": 27,
      "outputs": []
    },
    {
      "cell_type": "code",
      "source": [
        "# pastikan tidak null\n",
        "df.info()"
      ],
      "metadata": {
        "colab": {
          "base_uri": "https://localhost:8080/"
        },
        "id": "iiJBFFr9d6yo",
        "outputId": "70e2ac9a-2362-49ec-d01c-5fc39bd981cf"
      },
      "execution_count": 28,
      "outputs": [
        {
          "output_type": "stream",
          "name": "stdout",
          "text": [
            "<class 'pandas.core.frame.DataFrame'>\n",
            "RangeIndex: 1303 entries, 0 to 1302\n",
            "Data columns (total 18 columns):\n",
            " #   Column            Non-Null Count  Dtype  \n",
            "---  ------            --------------  -----  \n",
            " 0   laptop_ID         1303 non-null   int64  \n",
            " 1   Company           1303 non-null   object \n",
            " 2   TypeName          1303 non-null   object \n",
            " 3   Inches            1303 non-null   float64\n",
            " 4   ScreenResolution  1303 non-null   object \n",
            " 5   Cpu               1303 non-null   object \n",
            " 6   Ram               1303 non-null   int64  \n",
            " 7   Memory            1303 non-null   object \n",
            " 8   Gpu               1303 non-null   object \n",
            " 9   OpSys             1303 non-null   object \n",
            " 10  Weight            1303 non-null   float64\n",
            " 11  Price_euros       1303 non-null   float64\n",
            " 12  Cpu_model         1303 non-null   object \n",
            " 13  Cpu_freq          1303 non-null   float64\n",
            " 14  Resolution        1303 non-null   object \n",
            " 15  Memory_Size       1303 non-null   int64  \n",
            " 16  Storage_type      1303 non-null   object \n",
            " 17  Gpu_brand         1302 non-null   object \n",
            "dtypes: float64(4), int64(3), object(11)\n",
            "memory usage: 183.4+ KB\n"
          ]
        }
      ]
    },
    {
      "cell_type": "code",
      "source": [
        "# hapus kolom\n",
        "df1 = df.drop(['ScreenResolution','Cpu','Memory','Gpu','laptop_ID'], axis= 1)"
      ],
      "metadata": {
        "id": "VN7GkGiCex12"
      },
      "execution_count": 29,
      "outputs": []
    },
    {
      "cell_type": "code",
      "source": [
        "df1.select_dtypes(exclude=['float64','int64']).describe()"
      ],
      "metadata": {
        "colab": {
          "base_uri": "https://localhost:8080/",
          "height": 175
        },
        "id": "gZ0tJrfle65D",
        "outputId": "ee3f17c2-d6e5-4a0e-e01d-60a703e63718"
      },
      "execution_count": 30,
      "outputs": [
        {
          "output_type": "execute_result",
          "data": {
            "text/plain": [
              "       Company  TypeName       OpSys Cpu_model Resolution Storage_type  \\\n",
              "count     1303      1303        1303      1303       1303         1303   \n",
              "unique      19         6           9        10         15           19   \n",
              "top       Dell  Notebook  Windows 10        i7  1920x1080          SSD   \n",
              "freq       297       727        1072       527        841          637   \n",
              "\n",
              "       Gpu_brand  \n",
              "count       1302  \n",
              "unique         3  \n",
              "top        Intel  \n",
              "freq         722  "
            ],
            "text/html": [
              "\n",
              "  <div id=\"df-9e0f8b0d-a9fa-4166-90b0-317fb025e4fa\">\n",
              "    <div class=\"colab-df-container\">\n",
              "      <div>\n",
              "<style scoped>\n",
              "    .dataframe tbody tr th:only-of-type {\n",
              "        vertical-align: middle;\n",
              "    }\n",
              "\n",
              "    .dataframe tbody tr th {\n",
              "        vertical-align: top;\n",
              "    }\n",
              "\n",
              "    .dataframe thead th {\n",
              "        text-align: right;\n",
              "    }\n",
              "</style>\n",
              "<table border=\"1\" class=\"dataframe\">\n",
              "  <thead>\n",
              "    <tr style=\"text-align: right;\">\n",
              "      <th></th>\n",
              "      <th>Company</th>\n",
              "      <th>TypeName</th>\n",
              "      <th>OpSys</th>\n",
              "      <th>Cpu_model</th>\n",
              "      <th>Resolution</th>\n",
              "      <th>Storage_type</th>\n",
              "      <th>Gpu_brand</th>\n",
              "    </tr>\n",
              "  </thead>\n",
              "  <tbody>\n",
              "    <tr>\n",
              "      <th>count</th>\n",
              "      <td>1303</td>\n",
              "      <td>1303</td>\n",
              "      <td>1303</td>\n",
              "      <td>1303</td>\n",
              "      <td>1303</td>\n",
              "      <td>1303</td>\n",
              "      <td>1302</td>\n",
              "    </tr>\n",
              "    <tr>\n",
              "      <th>unique</th>\n",
              "      <td>19</td>\n",
              "      <td>6</td>\n",
              "      <td>9</td>\n",
              "      <td>10</td>\n",
              "      <td>15</td>\n",
              "      <td>19</td>\n",
              "      <td>3</td>\n",
              "    </tr>\n",
              "    <tr>\n",
              "      <th>top</th>\n",
              "      <td>Dell</td>\n",
              "      <td>Notebook</td>\n",
              "      <td>Windows 10</td>\n",
              "      <td>i7</td>\n",
              "      <td>1920x1080</td>\n",
              "      <td>SSD</td>\n",
              "      <td>Intel</td>\n",
              "    </tr>\n",
              "    <tr>\n",
              "      <th>freq</th>\n",
              "      <td>297</td>\n",
              "      <td>727</td>\n",
              "      <td>1072</td>\n",
              "      <td>527</td>\n",
              "      <td>841</td>\n",
              "      <td>637</td>\n",
              "      <td>722</td>\n",
              "    </tr>\n",
              "  </tbody>\n",
              "</table>\n",
              "</div>\n",
              "      <button class=\"colab-df-convert\" onclick=\"convertToInteractive('df-9e0f8b0d-a9fa-4166-90b0-317fb025e4fa')\"\n",
              "              title=\"Convert this dataframe to an interactive table.\"\n",
              "              style=\"display:none;\">\n",
              "        \n",
              "  <svg xmlns=\"http://www.w3.org/2000/svg\" height=\"24px\"viewBox=\"0 0 24 24\"\n",
              "       width=\"24px\">\n",
              "    <path d=\"M0 0h24v24H0V0z\" fill=\"none\"/>\n",
              "    <path d=\"M18.56 5.44l.94 2.06.94-2.06 2.06-.94-2.06-.94-.94-2.06-.94 2.06-2.06.94zm-11 1L8.5 8.5l.94-2.06 2.06-.94-2.06-.94L8.5 2.5l-.94 2.06-2.06.94zm10 10l.94 2.06.94-2.06 2.06-.94-2.06-.94-.94-2.06-.94 2.06-2.06.94z\"/><path d=\"M17.41 7.96l-1.37-1.37c-.4-.4-.92-.59-1.43-.59-.52 0-1.04.2-1.43.59L10.3 9.45l-7.72 7.72c-.78.78-.78 2.05 0 2.83L4 21.41c.39.39.9.59 1.41.59.51 0 1.02-.2 1.41-.59l7.78-7.78 2.81-2.81c.8-.78.8-2.07 0-2.86zM5.41 20L4 18.59l7.72-7.72 1.47 1.35L5.41 20z\"/>\n",
              "  </svg>\n",
              "      </button>\n",
              "      \n",
              "  <style>\n",
              "    .colab-df-container {\n",
              "      display:flex;\n",
              "      flex-wrap:wrap;\n",
              "      gap: 12px;\n",
              "    }\n",
              "\n",
              "    .colab-df-convert {\n",
              "      background-color: #E8F0FE;\n",
              "      border: none;\n",
              "      border-radius: 50%;\n",
              "      cursor: pointer;\n",
              "      display: none;\n",
              "      fill: #1967D2;\n",
              "      height: 32px;\n",
              "      padding: 0 0 0 0;\n",
              "      width: 32px;\n",
              "    }\n",
              "\n",
              "    .colab-df-convert:hover {\n",
              "      background-color: #E2EBFA;\n",
              "      box-shadow: 0px 1px 2px rgba(60, 64, 67, 0.3), 0px 1px 3px 1px rgba(60, 64, 67, 0.15);\n",
              "      fill: #174EA6;\n",
              "    }\n",
              "\n",
              "    [theme=dark] .colab-df-convert {\n",
              "      background-color: #3B4455;\n",
              "      fill: #D2E3FC;\n",
              "    }\n",
              "\n",
              "    [theme=dark] .colab-df-convert:hover {\n",
              "      background-color: #434B5C;\n",
              "      box-shadow: 0px 1px 3px 1px rgba(0, 0, 0, 0.15);\n",
              "      filter: drop-shadow(0px 1px 2px rgba(0, 0, 0, 0.3));\n",
              "      fill: #FFFFFF;\n",
              "    }\n",
              "  </style>\n",
              "\n",
              "      <script>\n",
              "        const buttonEl =\n",
              "          document.querySelector('#df-9e0f8b0d-a9fa-4166-90b0-317fb025e4fa button.colab-df-convert');\n",
              "        buttonEl.style.display =\n",
              "          google.colab.kernel.accessAllowed ? 'block' : 'none';\n",
              "\n",
              "        async function convertToInteractive(key) {\n",
              "          const element = document.querySelector('#df-9e0f8b0d-a9fa-4166-90b0-317fb025e4fa');\n",
              "          const dataTable =\n",
              "            await google.colab.kernel.invokeFunction('convertToInteractive',\n",
              "                                                     [key], {});\n",
              "          if (!dataTable) return;\n",
              "\n",
              "          const docLinkHtml = 'Like what you see? Visit the ' +\n",
              "            '<a target=\"_blank\" href=https://colab.research.google.com/notebooks/data_table.ipynb>data table notebook</a>'\n",
              "            + ' to learn more about interactive tables.';\n",
              "          element.innerHTML = '';\n",
              "          dataTable['output_type'] = 'display_data';\n",
              "          await google.colab.output.renderOutput(dataTable, element);\n",
              "          const docLink = document.createElement('div');\n",
              "          docLink.innerHTML = docLinkHtml;\n",
              "          element.appendChild(docLink);\n",
              "        }\n",
              "      </script>\n",
              "    </div>\n",
              "  </div>\n",
              "  "
            ]
          },
          "metadata": {},
          "execution_count": 30
        }
      ]
    },
    {
      "cell_type": "code",
      "source": [
        "df1.dropna(inplace=True)"
      ],
      "metadata": {
        "id": "h7CdMlOffAul"
      },
      "execution_count": 31,
      "outputs": []
    },
    {
      "cell_type": "code",
      "source": [
        "df1.columns"
      ],
      "metadata": {
        "colab": {
          "base_uri": "https://localhost:8080/"
        },
        "id": "O8KKvUv_fEE7",
        "outputId": "efd0f40a-c93f-4e24-fb39-bd322f1dc095"
      },
      "execution_count": 32,
      "outputs": [
        {
          "output_type": "execute_result",
          "data": {
            "text/plain": [
              "Index(['Company', 'TypeName', 'Inches', 'Ram', 'OpSys', 'Weight',\n",
              "       'Price_euros', 'Cpu_model', 'Cpu_freq', 'Resolution', 'Memory_Size',\n",
              "       'Storage_type', 'Gpu_brand'],\n",
              "      dtype='object')"
            ]
          },
          "metadata": {},
          "execution_count": 32
        }
      ]
    },
    {
      "cell_type": "markdown",
      "source": [
        "# Analisis Data Eksplorasi"
      ],
      "metadata": {
        "id": "qQZl6syMf0_a"
      }
    },
    {
      "cell_type": "markdown",
      "source": [
        "#### Perusahaan yang memiliki penjualan lebih tinggi ⤵"
      ],
      "metadata": {
        "id": "_N-CGPUYgGDN"
      }
    },
    {
      "cell_type": "code",
      "source": [
        "company_sales = df1.groupby('Company').sum().sort_values(by = 'Price_euros', ascending = False)\n",
        "company_sales\n",
        "plt.figure(figsize=(15,5))\n",
        "plt.xticks(rotation=90)\n",
        "sns.barplot(data = company_sales, x= company_sales.index , y= 'Price_euros')"
      ],
      "metadata": {
        "colab": {
          "base_uri": "https://localhost:8080/",
          "height": 392
        },
        "id": "sN_2rInrfomL",
        "outputId": "112cdece-2200-4d88-e16e-88d37ae6e026"
      },
      "execution_count": 33,
      "outputs": [
        {
          "output_type": "execute_result",
          "data": {
            "text/plain": [
              "<matplotlib.axes._subplots.AxesSubplot at 0x7fe7b01dfa90>"
            ]
          },
          "metadata": {},
          "execution_count": 33
        },
        {
          "output_type": "display_data",
          "data": {
            "text/plain": [
              "<Figure size 1080x360 with 1 Axes>"
            ],
            "image/png": "[encoded data removed]"
          },
          "metadata": {
            "needs_background": "light"
          }
        }
      ]
    },
    {
      "cell_type": "markdown",
      "source": [
        "\n",
        "\n",
        "---\n",
        "\n"
      ],
      "metadata": {
        "id": "aWxk1ciB5M8v"
      }
    },
    {
      "cell_type": "markdown",
      "source": [
        "#### Memori RAM Notebook yang lebih banyak dibeli oleh Pelanggan ⤵\n",
        "\n"
      ],
      "metadata": {
        "id": "o3hK3IbUgr6N"
      }
    },
    {
      "cell_type": "code",
      "source": [
        "ram_sales = df1.groupby('Ram').count().sort_values(by = 'Company', ascending = True)\n",
        "sales_pct = list(map(lambda x: (x/1302)*100, ram_sales.Company ))\n",
        "\n",
        "fig4, ax4 = plt.subplots(figsize=(10,8))\n",
        "ax4.pie(sales_pct, startangle= 90, labels = list(map(lambda x: f'{x:.1f}%',sales_pct)), rotatelabels= True)\n",
        "ax4.legend(list(map(lambda x: f'{x} Mb RAM',ram_sales.index)), loc = 'best')\n",
        "plt.show()"
      ],
      "metadata": {
        "colab": {
          "base_uri": "https://localhost:8080/",
          "height": 466
        },
        "id": "owdMnQHyg08e",
        "outputId": "b12ced75-a25c-4cd0-ad9d-18e942fae25e"
      },
      "execution_count": 34,
      "outputs": [
        {
          "output_type": "display_data",
          "data": {
            "text/plain": [
              "<Figure size 720x576 with 1 Axes>"
            ],
            "image/png": "[encoded data removed]"
          },
          "metadata": {}
        }
      ]
    },
    {
      "cell_type": "markdown",
      "source": [
        "\n",
        "\n",
        "---\n",
        "\n"
      ],
      "metadata": {
        "id": "mMunlGic5Qqh"
      }
    },
    {
      "cell_type": "markdown",
      "source": [
        "#### OS yang lebih disukai ⤵"
      ],
      "metadata": {
        "id": "NMzKnXVbhg_t"
      }
    },
    {
      "cell_type": "code",
      "source": [
        "os_sales = df1.groupby('OpSys').count().sort_values(by = 'Company', ascending = False)\n",
        "pct = list(map(lambda x: (x / 1302)*100, os_sales.Company))\n",
        "\n",
        "fig, ax1 = plt.subplots(figsize=(10,5))\n",
        "sns.barplot(data = os_sales, x= os_sales.index, y= pct)\n",
        "ax1.yaxis.set_major_formatter(mtick.PercentFormatter())\n",
        "\n",
        "plt.show()"
      ],
      "metadata": {
        "colab": {
          "base_uri": "https://localhost:8080/",
          "height": 334
        },
        "id": "cJfrpnSYhggU",
        "outputId": "7ba05578-e3dc-482f-9d87-da57e29e337a"
      },
      "execution_count": 35,
      "outputs": [
        {
          "output_type": "display_data",
          "data": {
            "text/plain": [
              "<Figure size 720x360 with 1 Axes>"
            ],
            "image/png": "[encoded data removed]"
          },
          "metadata": {
            "needs_background": "light"
          }
        }
      ]
    },
    {
      "cell_type": "markdown",
      "source": [
        "\n",
        "\n",
        "---\n",
        "\n"
      ],
      "metadata": {
        "id": "Tw5MIbf_5Tfd"
      }
    },
    {
      "cell_type": "markdown",
      "source": [
        "#### Frekuensi CPU yang dipilih Pelanggan ⤵"
      ],
      "metadata": {
        "id": "e3yZPrJWh7yu"
      }
    },
    {
      "cell_type": "code",
      "source": [
        "freq_sales = df1.groupby('Cpu_freq').count().sort_values(by = 'Company', ascending = False)\n",
        "\n",
        "freq_pct = list(map(lambda x: (x/1302)*100, freq_sales.Company))\n",
        "\n",
        "fig2, ax2 = plt.subplots(figsize = (10,5))\n",
        "sns.barplot(x = freq_sales.index, y = freq_pct)\n",
        "ax2.yaxis.set_major_formatter(mtick.PercentFormatter())"
      ],
      "metadata": {
        "colab": {
          "base_uri": "https://localhost:8080/",
          "height": 335
        },
        "id": "9LwffFWHh2Ly",
        "outputId": "d98ef295-7523-43f9-933e-ad3ed9bf5dc0"
      },
      "execution_count": 36,
      "outputs": [
        {
          "output_type": "display_data",
          "data": {
            "text/plain": [
              "<Figure size 720x360 with 1 Axes>"
            ],
            "image/png": "[encoded data removed]"
          },
          "metadata": {
            "needs_background": "light"
          }
        }
      ]
    },
    {
      "cell_type": "markdown",
      "source": [
        "\n",
        "\n",
        "---\n",
        "\n"
      ],
      "metadata": {
        "id": "ufuxfTI75XyK"
      }
    },
    {
      "cell_type": "markdown",
      "source": [
        "#### Resolusi yang lebih disukai Pelanggan ⤵"
      ],
      "metadata": {
        "id": "eAWSEDrIipx1"
      }
    },
    {
      "cell_type": "code",
      "source": [
        "resolution_sales = df1.groupby(by = 'Resolution').count().sort_values(by = 'Company', ascending = False)\n",
        "\n",
        "res_pct = list(map(lambda x: (x/1302)*100, resolution_sales.Company))\n",
        "\n",
        "fig, ax3 = plt.subplots(figsize = (10,5))\n",
        "sns.barplot(data = resolution_sales, x = resolution_sales.index, y = res_pct)\n",
        "ax3.yaxis.set_major_formatter(mtick.PercentFormatter())\n",
        "plt.xticks(rotation = 90)\n",
        "plt.show()"
      ],
      "metadata": {
        "colab": {
          "base_uri": "https://localhost:8080/",
          "height": 380
        },
        "id": "YqxJB1J1iWct",
        "outputId": "65325ecd-f1e8-45b4-dbec-d66aeb283db5"
      },
      "execution_count": 37,
      "outputs": [
        {
          "output_type": "display_data",
          "data": {
            "text/plain": [
              "<Figure size 720x360 with 1 Axes>"
            ],
            "image/png": "[encoded data removed]"
          },
          "metadata": {
            "needs_background": "light"
          }
        }
      ]
    },
    {
      "cell_type": "markdown",
      "source": [
        "\n",
        "\n",
        "---\n",
        "\n"
      ],
      "metadata": {
        "id": "KSJFn8DH5a0I"
      }
    },
    {
      "cell_type": "markdown",
      "source": [
        "#### Variabel yang berkorelasi dengan harga ⤵"
      ],
      "metadata": {
        "id": "Fdlvvmw_jC6s"
      }
    },
    {
      "cell_type": "code",
      "source": [
        "fig, ax = plt.subplots(figsize = (10,5))\n",
        "sns.heatmap(df1.corr(), annot = True)\n",
        "plt.show()"
      ],
      "metadata": {
        "colab": {
          "base_uri": "https://localhost:8080/",
          "height": 325
        },
        "id": "WRavGwEEjH0r",
        "outputId": "9d3a5206-3225-4d09-bf6f-51ebed8b201a"
      },
      "execution_count": 38,
      "outputs": [
        {
          "output_type": "display_data",
          "data": {
            "text/plain": [
              "<Figure size 720x360 with 2 Axes>"
            ],
            "image/png": "[encoded data removed]"
          },
          "metadata": {
            "needs_background": "light"
          }
        }
      ]
    },
    {
      "cell_type": "markdown",
      "source": [
        "\n",
        "\n",
        "---\n",
        "\n"
      ],
      "metadata": {
        "id": "8fMqoK9Y5eHz"
      }
    },
    {
      "cell_type": "code",
      "source": [
        "df1.info()"
      ],
      "metadata": {
        "colab": {
          "base_uri": "https://localhost:8080/"
        },
        "id": "eMi86yzMjMV0",
        "outputId": "e0d012f5-e64e-4232-9b99-de44ac7f6447"
      },
      "execution_count": 39,
      "outputs": [
        {
          "output_type": "stream",
          "name": "stdout",
          "text": [
            "<class 'pandas.core.frame.DataFrame'>\n",
            "Int64Index: 1302 entries, 0 to 1302\n",
            "Data columns (total 13 columns):\n",
            " #   Column        Non-Null Count  Dtype  \n",
            "---  ------        --------------  -----  \n",
            " 0   Company       1302 non-null   object \n",
            " 1   TypeName      1302 non-null   object \n",
            " 2   Inches        1302 non-null   float64\n",
            " 3   Ram           1302 non-null   int64  \n",
            " 4   OpSys         1302 non-null   object \n",
            " 5   Weight        1302 non-null   float64\n",
            " 6   Price_euros   1302 non-null   float64\n",
            " 7   Cpu_model     1302 non-null   object \n",
            " 8   Cpu_freq      1302 non-null   float64\n",
            " 9   Resolution    1302 non-null   object \n",
            " 10  Memory_Size   1302 non-null   int64  \n",
            " 11  Storage_type  1302 non-null   object \n",
            " 12  Gpu_brand     1302 non-null   object \n",
            "dtypes: float64(4), int64(2), object(7)\n",
            "memory usage: 142.4+ KB\n"
          ]
        }
      ]
    },
    {
      "cell_type": "markdown",
      "source": [
        "# Modeling"
      ],
      "metadata": {
        "id": "bpQzDFMSYQLq"
      }
    },
    {
      "cell_type": "code",
      "source": [
        "# pemindahan kolom dari variabel x ke y\n",
        "x = df1.drop('Price_euros', axis=1)\n",
        "y = df1.Price_euros"
      ],
      "metadata": {
        "id": "XzbjsSb_X6xO"
      },
      "execution_count": 40,
      "outputs": []
    },
    {
      "cell_type": "code",
      "source": [
        "# data training\n",
        "x_train, x_val, y_train, y_val = train_test_split(x, y)"
      ],
      "metadata": {
        "id": "W8cKR202jeyQ"
      },
      "execution_count": 41,
      "outputs": []
    },
    {
      "cell_type": "code",
      "source": [
        "# pemilihan kolom\n",
        "good_cat_cols = [col for col in x_train.columns if x_train[col].nunique() < 10 and x_train[col].dtype == 'object']\n",
        "bad_cat_cols = [col for col in x_train.columns if x_train[col].nunique() > 10 and x_train[col].dtype == 'object']\n",
        "num_cols = [col for col in x_train.columns if x_train[col].dtype != 'object']"
      ],
      "metadata": {
        "id": "Eg48GuqNjqWr"
      },
      "execution_count": 42,
      "outputs": []
    },
    {
      "cell_type": "code",
      "source": [
        "cat_transf = OneHotEncoder(handle_unknown='ignore', sparse = False)\n",
        "num_transf = MinMaxScaler(feature_range= (-1, 1))"
      ],
      "metadata": {
        "id": "9kCZ5pTKjsKj"
      },
      "execution_count": 43,
      "outputs": []
    },
    {
      "cell_type": "code",
      "source": [
        "preprocessor = ColumnTransformer(transformers = [('num', num_transf, num_cols),('cat', cat_transf, good_cat_cols)])"
      ],
      "metadata": {
        "id": "jvTNB3zBjwZI"
      },
      "execution_count": 44,
      "outputs": []
    },
    {
      "cell_type": "code",
      "source": [
        "# data hasil dari pemilihan\n",
        "num_cols"
      ],
      "metadata": {
        "colab": {
          "base_uri": "https://localhost:8080/"
        },
        "id": "U1JJ0HozjzHb",
        "outputId": "1dff9238-8cf1-4c7e-dc5a-61f07e19167a"
      },
      "execution_count": 45,
      "outputs": [
        {
          "output_type": "execute_result",
          "data": {
            "text/plain": [
              "['Inches', 'Ram', 'Weight', 'Cpu_freq', 'Memory_Size']"
            ]
          },
          "metadata": {},
          "execution_count": 45
        }
      ]
    },
    {
      "cell_type": "markdown",
      "source": [
        "### XGboost Model"
      ],
      "metadata": {
        "id": "3kyObY86kDKT"
      }
    },
    {
      "cell_type": "code",
      "source": [
        "# fungsi dari algoritma\n",
        "model = XGBRegressor(objective ='reg:squarederror', n_estimators = 100)"
      ],
      "metadata": {
        "id": "JVxqBSWZj_oA"
      },
      "execution_count": 46,
      "outputs": []
    },
    {
      "cell_type": "code",
      "source": [
        "clf = Pipeline(steps= [('preprocessor',preprocessor),('model', model)])"
      ],
      "metadata": {
        "id": "bIv0xZJ7kK_F"
      },
      "execution_count": 47,
      "outputs": []
    },
    {
      "cell_type": "code",
      "source": [
        "clf.fit(x_train, y_train)"
      ],
      "metadata": {
        "colab": {
          "base_uri": "https://localhost:8080/"
        },
        "id": "LmPNuk_akQTI",
        "outputId": "5b1c7468-31bd-4a06-9f3c-50d1993a289b"
      },
      "execution_count": 48,
      "outputs": [
        {
          "output_type": "execute_result",
          "data": {
            "text/plain": [
              "Pipeline(steps=[('preprocessor',\n",
              "                 ColumnTransformer(transformers=[('num',\n",
              "                                                  MinMaxScaler(feature_range=(-1,\n",
              "                                                                              1)),\n",
              "                                                  ['Inches', 'Ram', 'Weight',\n",
              "                                                   'Cpu_freq', 'Memory_Size']),\n",
              "                                                 ('cat',\n",
              "                                                  OneHotEncoder(handle_unknown='ignore',\n",
              "                                                                sparse=False),\n",
              "                                                  ['TypeName', 'OpSys',\n",
              "                                                   'Cpu_model',\n",
              "                                                   'Gpu_brand'])])),\n",
              "                ('model', XGBRegressor(objective='reg:squarederror'))])"
            ]
          },
          "metadata": {},
          "execution_count": 48
        }
      ]
    },
    {
      "cell_type": "code",
      "source": [
        "preds = clf.predict(x_val)"
      ],
      "metadata": {
        "id": "Jb_PLNPCklXk"
      },
      "execution_count": 49,
      "outputs": []
    },
    {
      "cell_type": "code",
      "source": [
        "xgb_r2 = r2_score(y_val, preds)"
      ],
      "metadata": {
        "id": "x2le95ookrgr"
      },
      "execution_count": 50,
      "outputs": []
    },
    {
      "cell_type": "markdown",
      "source": [
        "### Random Forest Model"
      ],
      "metadata": {
        "id": "tnWHd2YRpH9_"
      }
    },
    {
      "cell_type": "code",
      "source": [
        "#fungsi dari algoritma\n",
        "model1 = RandomForestRegressor(n_estimators=100, max_depth=100, max_features=15)"
      ],
      "metadata": {
        "id": "LZKMz8_PpEB-"
      },
      "execution_count": 51,
      "outputs": []
    },
    {
      "cell_type": "code",
      "source": [
        "clf2 = Pipeline(steps=[('preprocessor',preprocessor),('model1', model1)])"
      ],
      "metadata": {
        "id": "VZ-v8BaHpdEb"
      },
      "execution_count": 52,
      "outputs": []
    },
    {
      "cell_type": "code",
      "source": [
        "clf2.fit(x_train, y_train)"
      ],
      "metadata": {
        "colab": {
          "base_uri": "https://localhost:8080/"
        },
        "id": "Q2OF6xxFpfUH",
        "outputId": "d716c064-a929-4271-fd72-185e6aa77058"
      },
      "execution_count": 53,
      "outputs": [
        {
          "output_type": "execute_result",
          "data": {
            "text/plain": [
              "Pipeline(steps=[('preprocessor',\n",
              "                 ColumnTransformer(transformers=[('num',\n",
              "                                                  MinMaxScaler(feature_range=(-1,\n",
              "                                                                              1)),\n",
              "                                                  ['Inches', 'Ram', 'Weight',\n",
              "                                                   'Cpu_freq', 'Memory_Size']),\n",
              "                                                 ('cat',\n",
              "                                                  OneHotEncoder(handle_unknown='ignore',\n",
              "                                                                sparse=False),\n",
              "                                                  ['TypeName', 'OpSys',\n",
              "                                                   'Cpu_model',\n",
              "                                                   'Gpu_brand'])])),\n",
              "                ('model1',\n",
              "                 RandomForestRegressor(max_depth=100, max_features=15))])"
            ]
          },
          "metadata": {},
          "execution_count": 53
        }
      ]
    },
    {
      "cell_type": "code",
      "source": [
        "preds2 = clf2.predict(x_val)"
      ],
      "metadata": {
        "id": "MxhMMgfXpiXG"
      },
      "execution_count": 54,
      "outputs": []
    },
    {
      "cell_type": "code",
      "source": [
        "rf_r2 = r2_score(y_val, preds2)"
      ],
      "metadata": {
        "id": "Z5CjnIHIplNU"
      },
      "execution_count": 55,
      "outputs": []
    },
    {
      "cell_type": "markdown",
      "source": [
        "# Evaluasi\n"
      ],
      "metadata": {
        "id": "zJibL6J1YsEf"
      }
    },
    {
      "cell_type": "code",
      "source": [
        "# hasil dari XGboost Model\n",
        "mean_absolute_error(y_val, preds)"
      ],
      "metadata": {
        "colab": {
          "base_uri": "https://localhost:8080/"
        },
        "id": "Z2XFFqvUk5xk",
        "outputId": "899c1bc7-d3df-4f5d-bb45-291c5acb0370"
      },
      "execution_count": 56,
      "outputs": [
        {
          "output_type": "execute_result",
          "data": {
            "text/plain": [
              "218.62015193634969"
            ]
          },
          "metadata": {},
          "execution_count": 56
        }
      ]
    },
    {
      "cell_type": "code",
      "source": [
        "# hasil dari Random Forest Model\n",
        "mean_absolute_error(y_val, preds2)"
      ],
      "metadata": {
        "colab": {
          "base_uri": "https://localhost:8080/"
        },
        "id": "8iuzixho0FmG",
        "outputId": "ceed349d-ce4e-437a-b73e-baac811bb3ba"
      },
      "execution_count": 57,
      "outputs": [
        {
          "output_type": "execute_result",
          "data": {
            "text/plain": [
              "203.14445418186105"
            ]
          },
          "metadata": {},
          "execution_count": 57
        }
      ]
    },
    {
      "cell_type": "code",
      "source": [
        "# menampilkan akurasi dari kedua algoritma\n",
        "print(f'R2 untuk Random Forest Regression = {rf_r2:.2f}\\nR2 untuk XGBoost Regressor = {xgb_r2:.2f}')"
      ],
      "metadata": {
        "colab": {
          "base_uri": "https://localhost:8080/"
        },
        "id": "boWHxywWpnrz",
        "outputId": "744ece82-540e-4be9-e3df-6606bf37c309"
      },
      "execution_count": 58,
      "outputs": [
        {
          "output_type": "stream",
          "name": "stdout",
          "text": [
            "R2 untuk Random Forest Regression = 0.75\n",
            "R2 untuk XGBoost Regressor = 0.72\n"
          ]
        }
      ]
    },
    {
      "cell_type": "code",
      "source": [
        "# initialize data\n",
        "cat_features = preprocessor.transformers_[1][1].get_feature_names_out().tolist()"
      ],
      "metadata": {
        "id": "BlJJKAqdpxEE"
      },
      "execution_count": 59,
      "outputs": []
    },
    {
      "cell_type": "code",
      "source": [
        "# data diambil dari kelima kolom diatas\n",
        "feature_names = num_cols"
      ],
      "metadata": {
        "id": "cs5Y7fbOrSLm"
      },
      "execution_count": 60,
      "outputs": []
    },
    {
      "cell_type": "code",
      "source": [
        "feature_names.extend(cat_features)"
      ],
      "metadata": {
        "id": "tPCIxDrRpyAy"
      },
      "execution_count": 61,
      "outputs": []
    },
    {
      "cell_type": "markdown",
      "source": [
        "#### Fitur terpenting untuk harga ⤵"
      ],
      "metadata": {
        "id": "JILqkBnpr39A"
      }
    },
    {
      "cell_type": "code",
      "source": [
        "plt.figure(figsize = (10,5))\n",
        "sns.barplot(x = feature_names ,y= model.feature_importances_)\n",
        "plt.xticks(rotation = 90)\n",
        "plt.title('Fitur Terpenting')\n",
        "plt.show()"
      ],
      "metadata": {
        "colab": {
          "base_uri": "https://localhost:8080/",
          "height": 472
        },
        "id": "Jwg04pFOr2OK",
        "outputId": "a31ad291-9edd-44c4-951b-7f2421043da5"
      },
      "execution_count": 62,
      "outputs": [
        {
          "output_type": "display_data",
          "data": {
            "text/plain": [
              "<Figure size 720x360 with 1 Axes>"
            ],
            "image/png": "[encoded data removed]"
          },
          "metadata": {
            "needs_background": "light"
          }
        }
      ]
    }
  ]
}